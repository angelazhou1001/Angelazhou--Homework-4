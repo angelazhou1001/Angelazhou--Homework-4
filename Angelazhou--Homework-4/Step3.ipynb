{
 "cells": [
  {
   "cell_type": "code",
   "execution_count": 1,
   "metadata": {},
   "outputs": [],
   "source": [
    "dailytask = ('woke up','eat breakfast','dress up','go to work','work in the office','lunch','work again','get off work','go shopping','eat dinner','browse the internet','go to bed')"
   ]
  },
  {
   "cell_type": "code",
   "execution_count": 2,
   "metadata": {},
   "outputs": [
    {
     "name": "stdout",
     "output_type": "stream",
     "text": [
      "This is how my day goes ('woke up', 'eat breakfast', 'dress up', 'go to work', 'work in the office', 'lunch', 'work again', 'get off work', 'go shopping', 'eat dinner', 'browse the internet', 'go to bed')\n"
     ]
    }
   ],
   "source": [
    "print(\"This is how my day goes\", dailytask)"
   ]
  },
  {
   "cell_type": "code",
   "execution_count": null,
   "metadata": {},
   "outputs": [],
   "source": []
  }
 ],
 "metadata": {
  "kernelspec": {
   "display_name": "Python 3",
   "language": "python",
   "name": "python3"
  },
  "language_info": {
   "codemirror_mode": {
    "name": "ipython",
    "version": 3
   },
   "file_extension": ".py",
   "mimetype": "text/x-python",
   "name": "python",
   "nbconvert_exporter": "python",
   "pygments_lexer": "ipython3",
   "version": "3.6.4"
  }
 },
 "nbformat": 4,
 "nbformat_minor": 2
}
